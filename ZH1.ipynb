{
    "metadata": {
        "kernelspec": {
            "name": "SQL",
            "display_name": "SQL",
            "language": "sql"
        },
        "language_info": {
            "name": "sql",
            "version": ""
        }
    },
    "nbformat_minor": 2,
    "nbformat": 4,
    "cells": [
        {
            "cell_type": "markdown",
            "source": [
                "1\\. feladat: <span style=\"background-color: rgb(255, 255, 255); color: rgb(0, 0, 0); font-family: &quot;Open Sans&quot;, sans-serif; font-size: 14.44px;\">Listázzuk azon vendégek nevét és email-címét, akik az 1990-es év második felében születtek!&nbsp;</span> \n",
                "\n",
                "a. Rendezzük a listát a születés hónapja szerint növekvő sorrendbe!"
            ],
            "metadata": {
                "azdata_cell_guid": "eb12dd9c-2505-4233-8b46-cc68554e7713"
            },
            "attachments": {}
        },
        {
            "cell_type": "code",
            "source": [
                "SELECT NEV,\r\n",
                "EMAIL\r\n",
                "FROM Vendeg\r\n",
                "WHERE SZUL_DAT BETWEEN '1990-06-30' AND '1990-12-31'\r\n",
                "ORDER BY MONTH(SZUL_DAT) ASC"
            ],
            "metadata": {
                "azdata_cell_guid": "606afd32-0772-4ecc-8381-5228e1d6e92f",
                "language": "sql"
            },
            "outputs": [
                {
                    "output_type": "display_data",
                    "data": {
                        "text/html": "(4 rows affected)"
                    },
                    "metadata": {}
                },
                {
                    "output_type": "display_data",
                    "data": {
                        "text/html": "Total execution time: 00:00:00.004"
                    },
                    "metadata": {}
                },
                {
                    "output_type": "execute_result",
                    "metadata": {},
                    "execution_count": 25,
                    "data": {
                        "application/vnd.dataresource+json": {
                            "schema": {
                                "fields": [
                                    {
                                        "name": "NEV"
                                    },
                                    {
                                        "name": "EMAIL"
                                    }
                                ]
                            },
                            "data": [
                                {
                                    "NEV": "Bodor Szabolcs",
                                    "EMAIL": "szabolcs.bodor@mail.hu"
                                },
                                {
                                    "NEV": "Bosnyák Ilona",
                                    "EMAIL": "ilona3@gmail.com"
                                },
                                {
                                    "NEV": "Szabó Julianna",
                                    "EMAIL": "julianna4@gmail.com"
                                },
                                {
                                    "NEV": "Berta Dávid",
                                    "EMAIL": "david4@gmail.com"
                                }
                            ]
                        },
                        "text/html": [
                            "<table>",
                            "<tr><th>NEV</th><th>EMAIL</th></tr>",
                            "<tr><td>Bodor Szabolcs</td><td>szabolcs.bodor@mail.hu</td></tr>",
                            "<tr><td>Bosnyák Ilona</td><td>ilona3@gmail.com</td></tr>",
                            "<tr><td>Szabó Julianna</td><td>julianna4@gmail.com</td></tr>",
                            "<tr><td>Berta Dávid</td><td>david4@gmail.com</td></tr>",
                            "</table>"
                        ]
                    }
                }
            ],
            "execution_count": 25
        },
        {
            "cell_type": "markdown",
            "source": [
                "2\\. feladat: <span style=\"background-color: rgb(255, 255, 255); color: rgb(0, 0, 0); font-family: &quot;Open Sans&quot;, sans-serif; font-size: 14.44px;\">Készítsen lekérdezést, amely megjeleníti, hogy szobánként (SZOBA_FK) hány olyan foglalás történt, ahol a felnőttek száma nagyobb volt a gyermekek számánál!</span>\n",
                "\n",
                "a. Az eredményt rendezzük sorba a foglalásszám szerint növekvően!\n",
                "\n",
                "b. Hagyjuk ki azokat a csoportokat, ahol az említett foglalásszám 2 alatti!"
            ],
            "metadata": {
                "azdata_cell_guid": "9dcaaf0b-a663-43d7-8aaa-920c2bfd08dc"
            },
            "attachments": {}
        },
        {
            "cell_type": "code",
            "source": [
                "SELECT SZOBA_FK,\r\n",
                "COUNT(*) AS 'Foglalásszám'\r\n",
                "FROM Foglalas\r\n",
                "WHERE FELNOTT_SZAM > GYERMEK_SZAM\r\n",
                "GROUP BY SZOBA_FK\r\n",
                "HAVING COUNT(*) > 1\r\n",
                "ORDER BY COUNT(*)\r\n",
                "\r\n",
                ""
            ],
            "metadata": {
                "azdata_cell_guid": "5bb8f684-6628-4fa0-b90b-28843b66702f",
                "language": "sql"
            },
            "outputs": [
                {
                    "output_type": "display_data",
                    "data": {
                        "text/html": "(165 rows affected)"
                    },
                    "metadata": {}
                },
                {
                    "output_type": "display_data",
                    "data": {
                        "text/html": "Total execution time: 00:00:00.038"
                    },
                    "metadata": {}
                },
                {
                    "output_type": "execute_result",
                    "metadata": {},
                    "execution_count": 26,
                    "data": {
                        "application/vnd.dataresource+json": {
                            "schema": {
                                "fields": [
                                    {
                                        "name": "SZOBA_FK"
                                    },
                                    {
                                        "name": "Foglalásszám"
                                    }
                                ]
                            },
                            "data": [
                                {
                                    "SZOBA_FK": "2",
                                    "Foglalásszám": "2"
                                },
                                {
                                    "SZOBA_FK": "5",
                                    "Foglalásszám": "2"
                                },
                                {
                                    "SZOBA_FK": "17",
                                    "Foglalásszám": "2"
                                },
                                {
                                    "SZOBA_FK": "22",
                                    "Foglalásszám": "2"
                                },
                                {
                                    "SZOBA_FK": "30",
                                    "Foglalásszám": "2"
                                },
                                {
                                    "SZOBA_FK": "37",
                                    "Foglalásszám": "2"
                                },
                                {
                                    "SZOBA_FK": "47",
                                    "Foglalásszám": "2"
                                },
                                {
                                    "SZOBA_FK": "71",
                                    "Foglalásszám": "2"
                                },
                                {
                                    "SZOBA_FK": "72",
                                    "Foglalásszám": "2"
                                },
                                {
                                    "SZOBA_FK": "75",
                                    "Foglalásszám": "2"
                                },
                                {
                                    "SZOBA_FK": "76",
                                    "Foglalásszám": "2"
                                },
                                {
                                    "SZOBA_FK": "67",
                                    "Foglalásszám": "2"
                                },
                                {
                                    "SZOBA_FK": "69",
                                    "Foglalásszám": "2"
                                },
                                {
                                    "SZOBA_FK": "85",
                                    "Foglalásszám": "2"
                                },
                                {
                                    "SZOBA_FK": "91",
                                    "Foglalásszám": "2"
                                },
                                {
                                    "SZOBA_FK": "100",
                                    "Foglalásszám": "2"
                                },
                                {
                                    "SZOBA_FK": "109",
                                    "Foglalásszám": "2"
                                },
                                {
                                    "SZOBA_FK": "113",
                                    "Foglalásszám": "2"
                                },
                                {
                                    "SZOBA_FK": "118",
                                    "Foglalásszám": "2"
                                },
                                {
                                    "SZOBA_FK": "120",
                                    "Foglalásszám": "2"
                                },
                                {
                                    "SZOBA_FK": "136",
                                    "Foglalásszám": "2"
                                },
                                {
                                    "SZOBA_FK": "137",
                                    "Foglalásszám": "2"
                                },
                                {
                                    "SZOBA_FK": "144",
                                    "Foglalásszám": "2"
                                },
                                {
                                    "SZOBA_FK": "145",
                                    "Foglalásszám": "2"
                                },
                                {
                                    "SZOBA_FK": "151",
                                    "Foglalásszám": "2"
                                },
                                {
                                    "SZOBA_FK": "156",
                                    "Foglalásszám": "2"
                                },
                                {
                                    "SZOBA_FK": "157",
                                    "Foglalásszám": "2"
                                },
                                {
                                    "SZOBA_FK": "160",
                                    "Foglalásszám": "2"
                                },
                                {
                                    "SZOBA_FK": "162",
                                    "Foglalásszám": "2"
                                },
                                {
                                    "SZOBA_FK": "167",
                                    "Foglalásszám": "2"
                                },
                                {
                                    "SZOBA_FK": "176",
                                    "Foglalásszám": "2"
                                },
                                {
                                    "SZOBA_FK": "179",
                                    "Foglalásszám": "2"
                                },
                                {
                                    "SZOBA_FK": "188",
                                    "Foglalásszám": "2"
                                },
                                {
                                    "SZOBA_FK": "193",
                                    "Foglalásszám": "2"
                                },
                                {
                                    "SZOBA_FK": "196",
                                    "Foglalásszám": "2"
                                },
                                {
                                    "SZOBA_FK": "191",
                                    "Foglalásszám": "3"
                                },
                                {
                                    "SZOBA_FK": "183",
                                    "Foglalásszám": "3"
                                },
                                {
                                    "SZOBA_FK": "173",
                                    "Foglalásszám": "3"
                                },
                                {
                                    "SZOBA_FK": "166",
                                    "Foglalásszám": "3"
                                },
                                {
                                    "SZOBA_FK": "175",
                                    "Foglalásszám": "3"
                                },
                                {
                                    "SZOBA_FK": "169",
                                    "Foglalásszám": "3"
                                },
                                {
                                    "SZOBA_FK": "170",
                                    "Foglalásszám": "3"
                                },
                                {
                                    "SZOBA_FK": "161",
                                    "Foglalásszám": "3"
                                },
                                {
                                    "SZOBA_FK": "158",
                                    "Foglalásszám": "3"
                                },
                                {
                                    "SZOBA_FK": "152",
                                    "Foglalásszám": "3"
                                },
                                {
                                    "SZOBA_FK": "154",
                                    "Foglalásszám": "3"
                                },
                                {
                                    "SZOBA_FK": "155",
                                    "Foglalásszám": "3"
                                },
                                {
                                    "SZOBA_FK": "146",
                                    "Foglalásszám": "3"
                                },
                                {
                                    "SZOBA_FK": "135",
                                    "Foglalásszám": "3"
                                },
                                {
                                    "SZOBA_FK": "122",
                                    "Foglalásszám": "3"
                                },
                                {
                                    "SZOBA_FK": "129",
                                    "Foglalásszám": "3"
                                },
                                {
                                    "SZOBA_FK": "104",
                                    "Foglalásszám": "3"
                                },
                                {
                                    "SZOBA_FK": "90",
                                    "Foglalásszám": "3"
                                },
                                {
                                    "SZOBA_FK": "66",
                                    "Foglalásszám": "3"
                                },
                                {
                                    "SZOBA_FK": "84",
                                    "Foglalásszám": "3"
                                },
                                {
                                    "SZOBA_FK": "93",
                                    "Foglalásszám": "3"
                                },
                                {
                                    "SZOBA_FK": "95",
                                    "Foglalásszám": "3"
                                },
                                {
                                    "SZOBA_FK": "81",
                                    "Foglalásszám": "3"
                                },
                                {
                                    "SZOBA_FK": "77",
                                    "Foglalásszám": "3"
                                },
                                {
                                    "SZOBA_FK": "78",
                                    "Foglalásszám": "3"
                                },
                                {
                                    "SZOBA_FK": "50",
                                    "Foglalásszám": "3"
                                },
                                {
                                    "SZOBA_FK": "51",
                                    "Foglalásszám": "3"
                                },
                                {
                                    "SZOBA_FK": "46",
                                    "Foglalásszám": "3"
                                },
                                {
                                    "SZOBA_FK": "55",
                                    "Foglalásszám": "3"
                                },
                                {
                                    "SZOBA_FK": "57",
                                    "Foglalásszám": "3"
                                },
                                {
                                    "SZOBA_FK": "62",
                                    "Foglalásszám": "3"
                                },
                                {
                                    "SZOBA_FK": "63",
                                    "Foglalásszám": "3"
                                },
                                {
                                    "SZOBA_FK": "29",
                                    "Foglalásszám": "3"
                                },
                                {
                                    "SZOBA_FK": "40",
                                    "Foglalásszám": "3"
                                },
                                {
                                    "SZOBA_FK": "33",
                                    "Foglalásszám": "3"
                                },
                                {
                                    "SZOBA_FK": "34",
                                    "Foglalásszám": "3"
                                },
                                {
                                    "SZOBA_FK": "23",
                                    "Foglalásszám": "3"
                                },
                                {
                                    "SZOBA_FK": "24",
                                    "Foglalásszám": "3"
                                },
                                {
                                    "SZOBA_FK": "18",
                                    "Foglalásszám": "3"
                                },
                                {
                                    "SZOBA_FK": "14",
                                    "Foglalásszám": "3"
                                },
                                {
                                    "SZOBA_FK": "3",
                                    "Foglalásszám": "3"
                                },
                                {
                                    "SZOBA_FK": "9",
                                    "Foglalásszám": "4"
                                },
                                {
                                    "SZOBA_FK": "10",
                                    "Foglalásszám": "4"
                                },
                                {
                                    "SZOBA_FK": "11",
                                    "Foglalásszám": "4"
                                },
                                {
                                    "SZOBA_FK": "15",
                                    "Foglalásszám": "4"
                                },
                                {
                                    "SZOBA_FK": "19",
                                    "Foglalásszám": "4"
                                },
                                {
                                    "SZOBA_FK": "36",
                                    "Foglalásszám": "4"
                                },
                                {
                                    "SZOBA_FK": "39",
                                    "Foglalásszám": "4"
                                },
                                {
                                    "SZOBA_FK": "13",
                                    "Foglalásszám": "4"
                                },
                                {
                                    "SZOBA_FK": "59",
                                    "Foglalásszám": "4"
                                },
                                {
                                    "SZOBA_FK": "61",
                                    "Foglalásszám": "4"
                                },
                                {
                                    "SZOBA_FK": "54",
                                    "Foglalásszám": "4"
                                },
                                {
                                    "SZOBA_FK": "45",
                                    "Foglalásszám": "4"
                                },
                                {
                                    "SZOBA_FK": "43",
                                    "Foglalásszám": "4"
                                },
                                {
                                    "SZOBA_FK": "79",
                                    "Foglalásszám": "4"
                                },
                                {
                                    "SZOBA_FK": "73",
                                    "Foglalásszám": "4"
                                },
                                {
                                    "SZOBA_FK": "86",
                                    "Foglalásszám": "4"
                                },
                                {
                                    "SZOBA_FK": "98",
                                    "Foglalásszám": "4"
                                },
                                {
                                    "SZOBA_FK": "99",
                                    "Foglalásszám": "4"
                                },
                                {
                                    "SZOBA_FK": "106",
                                    "Foglalásszám": "4"
                                },
                                {
                                    "SZOBA_FK": "107",
                                    "Foglalásszám": "4"
                                },
                                {
                                    "SZOBA_FK": "124",
                                    "Foglalásszám": "4"
                                },
                                {
                                    "SZOBA_FK": "126",
                                    "Foglalásszám": "4"
                                },
                                {
                                    "SZOBA_FK": "119",
                                    "Foglalásszám": "4"
                                },
                                {
                                    "SZOBA_FK": "112",
                                    "Foglalásszám": "4"
                                },
                                {
                                    "SZOBA_FK": "117",
                                    "Foglalásszám": "4"
                                },
                                {
                                    "SZOBA_FK": "141",
                                    "Foglalásszám": "4"
                                },
                                {
                                    "SZOBA_FK": "131",
                                    "Foglalásszám": "4"
                                },
                                {
                                    "SZOBA_FK": "132",
                                    "Foglalásszám": "4"
                                },
                                {
                                    "SZOBA_FK": "133",
                                    "Foglalásszám": "4"
                                },
                                {
                                    "SZOBA_FK": "134",
                                    "Foglalásszám": "4"
                                },
                                {
                                    "SZOBA_FK": "153",
                                    "Foglalásszám": "4"
                                },
                                {
                                    "SZOBA_FK": "164",
                                    "Foglalásszám": "4"
                                },
                                {
                                    "SZOBA_FK": "174",
                                    "Foglalásszám": "4"
                                },
                                {
                                    "SZOBA_FK": "184",
                                    "Foglalásszám": "4"
                                },
                                {
                                    "SZOBA_FK": "190",
                                    "Foglalásszám": "5"
                                },
                                {
                                    "SZOBA_FK": "195",
                                    "Foglalásszám": "5"
                                },
                                {
                                    "SZOBA_FK": "181",
                                    "Foglalásszám": "5"
                                },
                                {
                                    "SZOBA_FK": "165",
                                    "Foglalásszám": "5"
                                },
                                {
                                    "SZOBA_FK": "163",
                                    "Foglalásszám": "5"
                                },
                                {
                                    "SZOBA_FK": "171",
                                    "Foglalásszám": "5"
                                },
                                {
                                    "SZOBA_FK": "138",
                                    "Foglalásszám": "5"
                                },
                                {
                                    "SZOBA_FK": "143",
                                    "Foglalásszám": "5"
                                },
                                {
                                    "SZOBA_FK": "140",
                                    "Foglalásszám": "5"
                                },
                                {
                                    "SZOBA_FK": "148",
                                    "Foglalásszám": "5"
                                },
                                {
                                    "SZOBA_FK": "149",
                                    "Foglalásszám": "5"
                                },
                                {
                                    "SZOBA_FK": "115",
                                    "Foglalásszám": "5"
                                },
                                {
                                    "SZOBA_FK": "110",
                                    "Foglalásszám": "5"
                                },
                                {
                                    "SZOBA_FK": "127",
                                    "Foglalásszám": "5"
                                },
                                {
                                    "SZOBA_FK": "130",
                                    "Foglalásszám": "5"
                                },
                                {
                                    "SZOBA_FK": "123",
                                    "Foglalásszám": "5"
                                },
                                {
                                    "SZOBA_FK": "121",
                                    "Foglalásszám": "5"
                                },
                                {
                                    "SZOBA_FK": "97",
                                    "Foglalásszám": "5"
                                },
                                {
                                    "SZOBA_FK": "92",
                                    "Foglalásszám": "5"
                                },
                                {
                                    "SZOBA_FK": "87",
                                    "Foglalásszám": "5"
                                },
                                {
                                    "SZOBA_FK": "88",
                                    "Foglalásszám": "5"
                                },
                                {
                                    "SZOBA_FK": "82",
                                    "Foglalásszám": "5"
                                },
                                {
                                    "SZOBA_FK": "83",
                                    "Foglalásszám": "5"
                                },
                                {
                                    "SZOBA_FK": "80",
                                    "Foglalásszám": "5"
                                },
                                {
                                    "SZOBA_FK": "52",
                                    "Foglalásszám": "5"
                                },
                                {
                                    "SZOBA_FK": "49",
                                    "Foglalásszám": "5"
                                },
                                {
                                    "SZOBA_FK": "64",
                                    "Foglalásszám": "5"
                                },
                                {
                                    "SZOBA_FK": "38",
                                    "Foglalásszám": "5"
                                },
                                {
                                    "SZOBA_FK": "42",
                                    "Foglalásszám": "5"
                                },
                                {
                                    "SZOBA_FK": "27",
                                    "Foglalásszám": "5"
                                },
                                {
                                    "SZOBA_FK": "28",
                                    "Foglalásszám": "5"
                                },
                                {
                                    "SZOBA_FK": "20",
                                    "Foglalásszám": "5"
                                },
                                {
                                    "SZOBA_FK": "8",
                                    "Foglalásszám": "5"
                                },
                                {
                                    "SZOBA_FK": "4",
                                    "Foglalásszám": "5"
                                },
                                {
                                    "SZOBA_FK": "6",
                                    "Foglalásszám": "5"
                                },
                                {
                                    "SZOBA_FK": "7",
                                    "Foglalásszám": "6"
                                },
                                {
                                    "SZOBA_FK": "35",
                                    "Foglalásszám": "6"
                                },
                                {
                                    "SZOBA_FK": "48",
                                    "Foglalásszám": "6"
                                },
                                {
                                    "SZOBA_FK": "44",
                                    "Foglalásszám": "6"
                                },
                                {
                                    "SZOBA_FK": "96",
                                    "Foglalásszám": "6"
                                },
                                {
                                    "SZOBA_FK": "94",
                                    "Foglalásszám": "6"
                                },
                                {
                                    "SZOBA_FK": "150",
                                    "Foglalásszám": "6"
                                },
                                {
                                    "SZOBA_FK": "139",
                                    "Foglalásszám": "6"
                                },
                                {
                                    "SZOBA_FK": "172",
                                    "Foglalásszám": "6"
                                },
                                {
                                    "SZOBA_FK": "187",
                                    "Foglalásszám": "6"
                                },
                                {
                                    "SZOBA_FK": "197",
                                    "Foglalásszám": "6"
                                },
                                {
                                    "SZOBA_FK": "198",
                                    "Foglalásszám": "7"
                                },
                                {
                                    "SZOBA_FK": "12",
                                    "Foglalásszám": "7"
                                },
                                {
                                    "SZOBA_FK": "1",
                                    "Foglalásszám": "7"
                                },
                                {
                                    "SZOBA_FK": "58",
                                    "Foglalásszám": "8"
                                },
                                {
                                    "SZOBA_FK": "74",
                                    "Foglalásszám": "8"
                                },
                                {
                                    "SZOBA_FK": "70",
                                    "Foglalásszám": "8"
                                },
                                {
                                    "SZOBA_FK": "89",
                                    "Foglalásszám": "8"
                                },
                                {
                                    "SZOBA_FK": "185",
                                    "Foglalásszám": "10"
                                },
                                {
                                    "SZOBA_FK": "182",
                                    "Foglalásszám": "11"
                                }
                            ]
                        },
                        "text/html": [
                            "<table>",
                            "<tr><th>SZOBA_FK</th><th>Foglalásszám</th></tr>",
                            "<tr><td>2</td><td>2</td></tr>",
                            "<tr><td>5</td><td>2</td></tr>",
                            "<tr><td>17</td><td>2</td></tr>",
                            "<tr><td>22</td><td>2</td></tr>",
                            "<tr><td>30</td><td>2</td></tr>",
                            "<tr><td>37</td><td>2</td></tr>",
                            "<tr><td>47</td><td>2</td></tr>",
                            "<tr><td>71</td><td>2</td></tr>",
                            "<tr><td>72</td><td>2</td></tr>",
                            "<tr><td>75</td><td>2</td></tr>",
                            "<tr><td>76</td><td>2</td></tr>",
                            "<tr><td>67</td><td>2</td></tr>",
                            "<tr><td>69</td><td>2</td></tr>",
                            "<tr><td>85</td><td>2</td></tr>",
                            "<tr><td>91</td><td>2</td></tr>",
                            "<tr><td>100</td><td>2</td></tr>",
                            "<tr><td>109</td><td>2</td></tr>",
                            "<tr><td>113</td><td>2</td></tr>",
                            "<tr><td>118</td><td>2</td></tr>",
                            "<tr><td>120</td><td>2</td></tr>",
                            "<tr><td>136</td><td>2</td></tr>",
                            "<tr><td>137</td><td>2</td></tr>",
                            "<tr><td>144</td><td>2</td></tr>",
                            "<tr><td>145</td><td>2</td></tr>",
                            "<tr><td>151</td><td>2</td></tr>",
                            "<tr><td>156</td><td>2</td></tr>",
                            "<tr><td>157</td><td>2</td></tr>",
                            "<tr><td>160</td><td>2</td></tr>",
                            "<tr><td>162</td><td>2</td></tr>",
                            "<tr><td>167</td><td>2</td></tr>",
                            "<tr><td>176</td><td>2</td></tr>",
                            "<tr><td>179</td><td>2</td></tr>",
                            "<tr><td>188</td><td>2</td></tr>",
                            "<tr><td>193</td><td>2</td></tr>",
                            "<tr><td>196</td><td>2</td></tr>",
                            "<tr><td>191</td><td>3</td></tr>",
                            "<tr><td>183</td><td>3</td></tr>",
                            "<tr><td>173</td><td>3</td></tr>",
                            "<tr><td>166</td><td>3</td></tr>",
                            "<tr><td>175</td><td>3</td></tr>",
                            "<tr><td>169</td><td>3</td></tr>",
                            "<tr><td>170</td><td>3</td></tr>",
                            "<tr><td>161</td><td>3</td></tr>",
                            "<tr><td>158</td><td>3</td></tr>",
                            "<tr><td>152</td><td>3</td></tr>",
                            "<tr><td>154</td><td>3</td></tr>",
                            "<tr><td>155</td><td>3</td></tr>",
                            "<tr><td>146</td><td>3</td></tr>",
                            "<tr><td>135</td><td>3</td></tr>",
                            "<tr><td>122</td><td>3</td></tr>",
                            "<tr><td>129</td><td>3</td></tr>",
                            "<tr><td>104</td><td>3</td></tr>",
                            "<tr><td>90</td><td>3</td></tr>",
                            "<tr><td>66</td><td>3</td></tr>",
                            "<tr><td>84</td><td>3</td></tr>",
                            "<tr><td>93</td><td>3</td></tr>",
                            "<tr><td>95</td><td>3</td></tr>",
                            "<tr><td>81</td><td>3</td></tr>",
                            "<tr><td>77</td><td>3</td></tr>",
                            "<tr><td>78</td><td>3</td></tr>",
                            "<tr><td>50</td><td>3</td></tr>",
                            "<tr><td>51</td><td>3</td></tr>",
                            "<tr><td>46</td><td>3</td></tr>",
                            "<tr><td>55</td><td>3</td></tr>",
                            "<tr><td>57</td><td>3</td></tr>",
                            "<tr><td>62</td><td>3</td></tr>",
                            "<tr><td>63</td><td>3</td></tr>",
                            "<tr><td>29</td><td>3</td></tr>",
                            "<tr><td>40</td><td>3</td></tr>",
                            "<tr><td>33</td><td>3</td></tr>",
                            "<tr><td>34</td><td>3</td></tr>",
                            "<tr><td>23</td><td>3</td></tr>",
                            "<tr><td>24</td><td>3</td></tr>",
                            "<tr><td>18</td><td>3</td></tr>",
                            "<tr><td>14</td><td>3</td></tr>",
                            "<tr><td>3</td><td>3</td></tr>",
                            "<tr><td>9</td><td>4</td></tr>",
                            "<tr><td>10</td><td>4</td></tr>",
                            "<tr><td>11</td><td>4</td></tr>",
                            "<tr><td>15</td><td>4</td></tr>",
                            "<tr><td>19</td><td>4</td></tr>",
                            "<tr><td>36</td><td>4</td></tr>",
                            "<tr><td>39</td><td>4</td></tr>",
                            "<tr><td>13</td><td>4</td></tr>",
                            "<tr><td>59</td><td>4</td></tr>",
                            "<tr><td>61</td><td>4</td></tr>",
                            "<tr><td>54</td><td>4</td></tr>",
                            "<tr><td>45</td><td>4</td></tr>",
                            "<tr><td>43</td><td>4</td></tr>",
                            "<tr><td>79</td><td>4</td></tr>",
                            "<tr><td>73</td><td>4</td></tr>",
                            "<tr><td>86</td><td>4</td></tr>",
                            "<tr><td>98</td><td>4</td></tr>",
                            "<tr><td>99</td><td>4</td></tr>",
                            "<tr><td>106</td><td>4</td></tr>",
                            "<tr><td>107</td><td>4</td></tr>",
                            "<tr><td>124</td><td>4</td></tr>",
                            "<tr><td>126</td><td>4</td></tr>",
                            "<tr><td>119</td><td>4</td></tr>",
                            "<tr><td>112</td><td>4</td></tr>",
                            "<tr><td>117</td><td>4</td></tr>",
                            "<tr><td>141</td><td>4</td></tr>",
                            "<tr><td>131</td><td>4</td></tr>",
                            "<tr><td>132</td><td>4</td></tr>",
                            "<tr><td>133</td><td>4</td></tr>",
                            "<tr><td>134</td><td>4</td></tr>",
                            "<tr><td>153</td><td>4</td></tr>",
                            "<tr><td>164</td><td>4</td></tr>",
                            "<tr><td>174</td><td>4</td></tr>",
                            "<tr><td>184</td><td>4</td></tr>",
                            "<tr><td>190</td><td>5</td></tr>",
                            "<tr><td>195</td><td>5</td></tr>",
                            "<tr><td>181</td><td>5</td></tr>",
                            "<tr><td>165</td><td>5</td></tr>",
                            "<tr><td>163</td><td>5</td></tr>",
                            "<tr><td>171</td><td>5</td></tr>",
                            "<tr><td>138</td><td>5</td></tr>",
                            "<tr><td>143</td><td>5</td></tr>",
                            "<tr><td>140</td><td>5</td></tr>",
                            "<tr><td>148</td><td>5</td></tr>",
                            "<tr><td>149</td><td>5</td></tr>",
                            "<tr><td>115</td><td>5</td></tr>",
                            "<tr><td>110</td><td>5</td></tr>",
                            "<tr><td>127</td><td>5</td></tr>",
                            "<tr><td>130</td><td>5</td></tr>",
                            "<tr><td>123</td><td>5</td></tr>",
                            "<tr><td>121</td><td>5</td></tr>",
                            "<tr><td>97</td><td>5</td></tr>",
                            "<tr><td>92</td><td>5</td></tr>",
                            "<tr><td>87</td><td>5</td></tr>",
                            "<tr><td>88</td><td>5</td></tr>",
                            "<tr><td>82</td><td>5</td></tr>",
                            "<tr><td>83</td><td>5</td></tr>",
                            "<tr><td>80</td><td>5</td></tr>",
                            "<tr><td>52</td><td>5</td></tr>",
                            "<tr><td>49</td><td>5</td></tr>",
                            "<tr><td>64</td><td>5</td></tr>",
                            "<tr><td>38</td><td>5</td></tr>",
                            "<tr><td>42</td><td>5</td></tr>",
                            "<tr><td>27</td><td>5</td></tr>",
                            "<tr><td>28</td><td>5</td></tr>",
                            "<tr><td>20</td><td>5</td></tr>",
                            "<tr><td>8</td><td>5</td></tr>",
                            "<tr><td>4</td><td>5</td></tr>",
                            "<tr><td>6</td><td>5</td></tr>",
                            "<tr><td>7</td><td>6</td></tr>",
                            "<tr><td>35</td><td>6</td></tr>",
                            "<tr><td>48</td><td>6</td></tr>",
                            "<tr><td>44</td><td>6</td></tr>",
                            "<tr><td>96</td><td>6</td></tr>",
                            "<tr><td>94</td><td>6</td></tr>",
                            "<tr><td>150</td><td>6</td></tr>",
                            "<tr><td>139</td><td>6</td></tr>",
                            "<tr><td>172</td><td>6</td></tr>",
                            "<tr><td>187</td><td>6</td></tr>",
                            "<tr><td>197</td><td>6</td></tr>",
                            "<tr><td>198</td><td>7</td></tr>",
                            "<tr><td>12</td><td>7</td></tr>",
                            "<tr><td>1</td><td>7</td></tr>",
                            "<tr><td>58</td><td>8</td></tr>",
                            "<tr><td>74</td><td>8</td></tr>",
                            "<tr><td>70</td><td>8</td></tr>",
                            "<tr><td>89</td><td>8</td></tr>",
                            "<tr><td>185</td><td>10</td></tr>",
                            "<tr><td>182</td><td>11</td></tr>",
                            "</table>"
                        ]
                    }
                }
            ],
            "execution_count": 26
        },
        {
            "cell_type": "markdown",
            "source": [
                "3\\. feladat: <span style=\"background-color: rgb(255, 255, 255); color: rgb(0, 0, 0); font-family: &quot;Open Sans&quot;, sans-serif; font-size: 14.44px;\">Készítsen lekérdezést, amely az ügyfeleket születési idejük alapján kategóriákba sorolja (1985-ben vagy utána születettek: fiatal, 1970 előtt születettek: idős, a többiek: középkorú), majd megjeleníti, hogy melyik kategóriában hány foglalás történt!</span>\n",
                "\n",
                "a. Csak a kategória neve és a foglalásszám jelenjen meg\n",
                "\n",
                "b. A számolás során csak azokat a foglalásokat vegyük figyelembe, amelyek legalább 2 főre történtek!"
            ],
            "metadata": {
                "azdata_cell_guid": "d1544c53-bf3c-4563-8503-a039df7a42dc"
            },
            "attachments": {}
        },
        {
            "cell_type": "code",
            "source": [
                "SELECT CASE \r\n",
                "WHEN YEAR(v.SZUL_DAT) > 1985 THEN 'fiatal'\r\n",
                "WHEN YEAR(v.SZUL_DAT) < 1970 THEN 'idős'\r\n",
                "ELSE 'középkorú' END AS 'Kor kategria',\r\n",
                "COUNT(f.FOGLALAS_PK) AS 'Foglalásszám'\r\n",
                "FROM Vendeg v JOIN Foglalas f ON v.USERNEV = f.UGYFEL_FK\r\n",
                "WHERE f.FELNOTT_SZAM + f.GYERMEK_SZAM > 1\r\n",
                "GROUP BY CASE \r\n",
                "WHEN YEAR(v.SZUL_DAT) > 1985 THEN 'fiatal'\r\n",
                "WHEN YEAR(v.SZUL_DAT) < 1970 THEN 'idős'\r\n",
                "ELSE 'középkorú' END"
            ],
            "metadata": {
                "azdata_cell_guid": "17311094-14e6-46ea-9626-9b03b74be94d",
                "language": "sql"
            },
            "outputs": [
                {
                    "output_type": "display_data",
                    "data": {
                        "text/html": "(3 rows affected)"
                    },
                    "metadata": {}
                },
                {
                    "output_type": "display_data",
                    "data": {
                        "text/html": "Total execution time: 00:00:00.016"
                    },
                    "metadata": {}
                },
                {
                    "output_type": "execute_result",
                    "metadata": {},
                    "execution_count": 24,
                    "data": {
                        "application/vnd.dataresource+json": {
                            "schema": {
                                "fields": [
                                    {
                                        "name": "Kor kategria"
                                    },
                                    {
                                        "name": "Foglalásszám"
                                    }
                                ]
                            },
                            "data": [
                                {
                                    "Kor kategria": "fiatal",
                                    "Foglalásszám": "342"
                                },
                                {
                                    "Kor kategria": "idős",
                                    "Foglalásszám": "96"
                                },
                                {
                                    "Kor kategria": "középkorú",
                                    "Foglalásszám": "442"
                                }
                            ]
                        },
                        "text/html": [
                            "<table>",
                            "<tr><th>Kor kategria</th><th>Foglalásszám</th></tr>",
                            "<tr><td>fiatal</td><td>342</td></tr>",
                            "<tr><td>idős</td><td>96</td></tr>",
                            "<tr><td>középkorú</td><td>442</td></tr>",
                            "</table>"
                        ]
                    }
                }
            ],
            "execution_count": 24
        }
    ]
}